{
 "cells": [
  {
   "cell_type": "code",
   "execution_count": 50,
   "metadata": {},
   "outputs": [],
   "source": [
    "import pandas as pd\n",
    "df = pd.read_csv('./2019_2020_top_10.csv')\n",
    "top_3000_users = pd.read_csv('./2019_2020_top_3000_users.csv')['id'].tolist()"
   ]
  },
  {
   "cell_type": "code",
   "execution_count": 19,
   "metadata": {},
   "outputs": [
    {
     "data": {
      "text/html": [
       "<div>\n",
       "<style scoped>\n",
       "    .dataframe tbody tr th:only-of-type {\n",
       "        vertical-align: middle;\n",
       "    }\n",
       "\n",
       "    .dataframe tbody tr th {\n",
       "        vertical-align: top;\n",
       "    }\n",
       "\n",
       "    .dataframe thead th {\n",
       "        text-align: right;\n",
       "    }\n",
       "</style>\n",
       "<table border=\"1\" class=\"dataframe\">\n",
       "  <thead>\n",
       "    <tr style=\"text-align: right;\">\n",
       "      <th></th>\n",
       "      <th>board</th>\n",
       "      <th>article_id</th>\n",
       "      <th>article_title</th>\n",
       "      <th>article_content</th>\n",
       "      <th>push_content</th>\n",
       "      <th>push_ip</th>\n",
       "      <th>push_tag</th>\n",
       "      <th>pusher_id</th>\n",
       "      <th>push_timestamp</th>\n",
       "    </tr>\n",
       "  </thead>\n",
       "  <tbody>\n",
       "    <tr>\n",
       "      <th>0</th>\n",
       "      <td>Gossiping</td>\n",
       "      <td>M.1547225167.A.9AB</td>\n",
       "      <td>[問卦] 美國為什麼會在1979年決定和中國建交？</td>\n",
       "      <td>今年2019年 60年前的1979年 美國跟中華人民共和國建交 同時美國1979年設的國內法...</td>\n",
       "      <td>因為美國需要利用中國反蘇聯</td>\n",
       "      <td>NaN</td>\n",
       "      <td>→</td>\n",
       "      <td>kuma660224</td>\n",
       "      <td>2019-01-12 06:04:00</td>\n",
       "    </tr>\n",
       "    <tr>\n",
       "      <th>1</th>\n",
       "      <td>Gossiping</td>\n",
       "      <td>M.1547225167.A.9AB</td>\n",
       "      <td>[問卦] 美國為什麼會在1979年決定和中國建交？</td>\n",
       "      <td>今年2019年 60年前的1979年 美國跟中華人民共和國建交 同時美國1979年設的國內法...</td>\n",
       "      <td>當初中蘇交惡，而美國想擴大共產陣營矛盾</td>\n",
       "      <td>NaN</td>\n",
       "      <td>→</td>\n",
       "      <td>kuma660224</td>\n",
       "      <td>2019-01-12 06:05:00</td>\n",
       "    </tr>\n",
       "    <tr>\n",
       "      <th>2</th>\n",
       "      <td>Gossiping</td>\n",
       "      <td>M.1547225167.A.9AB</td>\n",
       "      <td>[問卦] 美國為什麼會在1979年決定和中國建交？</td>\n",
       "      <td>今年2019年 60年前的1979年 美國跟中華人民共和國建交 同時美國1979年設的國內法...</td>\n",
       "      <td>敵人的敵人就是朋友（暫時的）</td>\n",
       "      <td>NaN</td>\n",
       "      <td>→</td>\n",
       "      <td>kuma660224</td>\n",
       "      <td>2019-01-12 06:05:00</td>\n",
       "    </tr>\n",
       "    <tr>\n",
       "      <th>3</th>\n",
       "      <td>Gossiping</td>\n",
       "      <td>M.1547225167.A.9AB</td>\n",
       "      <td>[問卦] 美國為什麼會在1979年決定和中國建交？</td>\n",
       "      <td>今年2019年 60年前的1979年 美國跟中華人民共和國建交 同時美國1979年設的國內法...</td>\n",
       "      <td>跟台灣或老蔣沒啥關係，就美國想要整蘇聯</td>\n",
       "      <td>NaN</td>\n",
       "      <td>→</td>\n",
       "      <td>kuma660224</td>\n",
       "      <td>2019-01-12 06:06:00</td>\n",
       "    </tr>\n",
       "    <tr>\n",
       "      <th>4</th>\n",
       "      <td>Gossiping</td>\n",
       "      <td>M.1547225167.A.9AB</td>\n",
       "      <td>[問卦] 美國為什麼會在1979年決定和中國建交？</td>\n",
       "      <td>今年2019年 60年前的1979年 美國跟中華人民共和國建交 同時美國1979年設的國內法...</td>\n",
       "      <td>直接在蘇聯身旁插旗佈樁，是蘇聯被歐亞包夾</td>\n",
       "      <td>NaN</td>\n",
       "      <td>→</td>\n",
       "      <td>kuma660224</td>\n",
       "      <td>2019-01-12 06:07:00</td>\n",
       "    </tr>\n",
       "  </tbody>\n",
       "</table>\n",
       "</div>"
      ],
      "text/plain": [
       "       board          article_id              article_title  \\\n",
       "0  Gossiping  M.1547225167.A.9AB  [問卦] 美國為什麼會在1979年決定和中國建交？   \n",
       "1  Gossiping  M.1547225167.A.9AB  [問卦] 美國為什麼會在1979年決定和中國建交？   \n",
       "2  Gossiping  M.1547225167.A.9AB  [問卦] 美國為什麼會在1979年決定和中國建交？   \n",
       "3  Gossiping  M.1547225167.A.9AB  [問卦] 美國為什麼會在1979年決定和中國建交？   \n",
       "4  Gossiping  M.1547225167.A.9AB  [問卦] 美國為什麼會在1979年決定和中國建交？   \n",
       "\n",
       "                                     article_content          push_content  \\\n",
       "0  今年2019年 60年前的1979年 美國跟中華人民共和國建交 同時美國1979年設的國內法...         因為美國需要利用中國反蘇聯   \n",
       "1  今年2019年 60年前的1979年 美國跟中華人民共和國建交 同時美國1979年設的國內法...   當初中蘇交惡，而美國想擴大共產陣營矛盾   \n",
       "2  今年2019年 60年前的1979年 美國跟中華人民共和國建交 同時美國1979年設的國內法...        敵人的敵人就是朋友（暫時的）   \n",
       "3  今年2019年 60年前的1979年 美國跟中華人民共和國建交 同時美國1979年設的國內法...   跟台灣或老蔣沒啥關係，就美國想要整蘇聯   \n",
       "4  今年2019年 60年前的1979年 美國跟中華人民共和國建交 同時美國1979年設的國內法...  直接在蘇聯身旁插旗佈樁，是蘇聯被歐亞包夾   \n",
       "\n",
       "  push_ip push_tag   pusher_id       push_timestamp  \n",
       "0     NaN     →     kuma660224  2019-01-12 06:04:00  \n",
       "1     NaN     →     kuma660224  2019-01-12 06:05:00  \n",
       "2     NaN     →     kuma660224  2019-01-12 06:05:00  \n",
       "3     NaN     →     kuma660224  2019-01-12 06:06:00  \n",
       "4     NaN     →     kuma660224  2019-01-12 06:07:00  "
      ]
     },
     "execution_count": 19,
     "metadata": {},
     "output_type": "execute_result"
    }
   ],
   "source": [
    "df.head()"
   ]
  },
  {
   "cell_type": "code",
   "execution_count": 18,
   "metadata": {},
   "outputs": [
    {
     "data": {
      "text/plain": [
       "{'→   ', '噓   ', '推   '}"
      ]
     },
     "execution_count": 18,
     "metadata": {},
     "output_type": "execute_result"
    }
   ],
   "source": [
    "set(df['push_tag'])"
   ]
  },
  {
   "cell_type": "code",
   "execution_count": 23,
   "metadata": {},
   "outputs": [
    {
     "name": "stdout",
     "output_type": "stream",
     "text": [
      "1464 127372\n"
     ]
    }
   ],
   "source": [
    "print(len(set(df['push_ip'].dropna())), len(df['push_ip'].dropna()))"
   ]
  },
  {
   "cell_type": "code",
   "execution_count": 62,
   "metadata": {},
   "outputs": [
    {
     "name": "stdout",
     "output_type": "stream",
     "text": [
      "8\n",
      "Top 10 users: 8 ['Moratti', 'tomalex', 'kuma660224', 'kutkin', 'elainakuo', 'WTF55665566', 'MVPGGYY', 'GGrunrundela']\n",
      "Missing users: 2 ['tcchenk', 'raininglight']\n"
     ]
    }
   ],
   "source": [
    "top_10_users = list(set(df['pusher_id']))\n",
    "print(len(top_10_users))\n",
    "print('Top 10 users:', len(top_10_users), top_10_users)\n",
    "not_in_top_10 = [i for i in top_3000_users[:10] if i not in top_10_users]\n",
    "print('Missing users:', len(not_in_top_10), not_in_top_10)\n",
    "# where is tcchenk and raininglight ?"
   ]
  }
 ],
 "metadata": {
  "kernelspec": {
   "display_name": "Python 3",
   "language": "python",
   "name": "python3"
  },
  "language_info": {
   "codemirror_mode": {
    "name": "ipython",
    "version": 3
   },
   "file_extension": ".py",
   "mimetype": "text/x-python",
   "name": "python",
   "nbconvert_exporter": "python",
   "pygments_lexer": "ipython3",
   "version": "3.8.5"
  },
  "toc": {
   "base_numbering": 1,
   "nav_menu": {},
   "number_sections": true,
   "sideBar": true,
   "skip_h1_title": false,
   "title_cell": "Table of Contents",
   "title_sidebar": "Contents",
   "toc_cell": false,
   "toc_position": {},
   "toc_section_display": true,
   "toc_window_display": false
  },
  "varInspector": {
   "cols": {
    "lenName": 16,
    "lenType": 16,
    "lenVar": 40
   },
   "kernels_config": {
    "python": {
     "delete_cmd_postfix": "",
     "delete_cmd_prefix": "del ",
     "library": "var_list.py",
     "varRefreshCmd": "print(var_dic_list())"
    },
    "r": {
     "delete_cmd_postfix": ") ",
     "delete_cmd_prefix": "rm(",
     "library": "var_list.r",
     "varRefreshCmd": "cat(var_dic_list()) "
    }
   },
   "types_to_exclude": [
    "module",
    "function",
    "builtin_function_or_method",
    "instance",
    "_Feature"
   ],
   "window_display": false
  }
 },
 "nbformat": 4,
 "nbformat_minor": 4
}
